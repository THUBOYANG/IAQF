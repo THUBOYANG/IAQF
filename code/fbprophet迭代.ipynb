{
 "cells": [
  {
   "cell_type": "code",
   "execution_count": 1,
   "metadata": {},
   "outputs": [],
   "source": [
    "from fbprophet import Prophet\n",
    "import numpy as np\n",
    "import pandas as pd\n",
    "import matplotlib.pyplot as plt"
   ]
  },
  {
   "cell_type": "code",
   "execution_count": 2,
   "metadata": {},
   "outputs": [],
   "source": [
    "price_df = pd.read_csv('train_set_nostandardBBB.csv')\n",
    "price_t_df = pd.read_csv('test_set_nostandardBBB.csv')"
   ]
  },
  {
   "cell_type": "code",
   "execution_count": 3,
   "metadata": {},
   "outputs": [],
   "source": [
    "price_df.rename(columns={'date':'ds','predict':'y'},inplace=True)\n",
    "price_df['ds'] = pd.to_datetime(price_df['ds'])\n",
    "price_t_df.rename(columns = {'date':'ds','predict':'y'},inplace=True)\n",
    "price_t_df['ds'] = pd.to_datetime(price_t_df['ds'])\n",
    "#modify y in training set\n",
    "price_df['y_orig'] = price_df['y']#将y_orig加入为最后一列\n",
    "price_t_df['y_orig'] = price_t_df['y']\n",
    "for i in range(len(price_df)):\n",
    "    price_df.iloc[i,-2] += 1    #统一y+=1\n",
    "for i in range(len(price_t_df)):\n",
    "    price_t_df.iloc[i,-2] += 1\n",
    "price_df['y'] = np.log(price_df['y'])  #对y取log\n",
    "price_t_df['y'] = np.log(price_t_df['y'])\n",
    "y_true = price_t_df['y_orig']  #保存测试集上真值"
   ]
  },
  {
   "cell_type": "code",
   "execution_count": 4,
   "metadata": {},
   "outputs": [],
   "source": [
    "yhat = []\n",
    "yhat_lower = []\n",
    "yhat_upper = []"
   ]
  },
  {
   "cell_type": "code",
   "execution_count": 5,
   "metadata": {},
   "outputs": [
    {
     "name": "stdout",
     "output_type": "stream",
     "text": [
      "575\n"
     ]
    },
    {
     "name": "stderr",
     "output_type": "stream",
     "text": [
      "D:\\Anaconda\\lib\\site-packages\\fbprophet\\forecaster.py:880: FutureWarning: Series.nonzero() is deprecated and will be removed in a future version.Use Series.to_numpy().nonzero() instead\n",
      "  min_dt = dt.iloc[dt.nonzero()[0]].min()\n",
      "D:\\Anaconda\\lib\\site-packages\\pystan\\misc.py:399: FutureWarning: Conversion of the second argument of issubdtype from `float` to `np.floating` is deprecated. In future, it will be treated as `np.float64 == np.dtype(float).type`.\n",
      "  elif np.issubdtype(np.asarray(v).dtype, float):\n"
     ]
    },
    {
     "name": "stdout",
     "output_type": "stream",
     "text": [
      "570\n",
      "565\n",
      "560\n",
      "555\n",
      "550\n",
      "545\n",
      "540\n",
      "535\n",
      "530\n",
      "525\n",
      "520\n",
      "515\n",
      "510\n",
      "505\n",
      "500\n",
      "495\n",
      "490\n",
      "485\n",
      "480\n",
      "475\n",
      "470\n",
      "465\n",
      "460\n",
      "455\n",
      "450\n",
      "445\n",
      "440\n",
      "435\n",
      "430\n",
      "425\n",
      "420\n",
      "415\n",
      "410\n",
      "405\n",
      "400\n",
      "395\n",
      "390\n",
      "385\n",
      "380\n",
      "375\n",
      "370\n",
      "365\n",
      "360\n",
      "355\n",
      "350\n",
      "345\n",
      "340\n",
      "335\n",
      "330\n",
      "325\n",
      "320\n",
      "315\n",
      "310\n",
      "305\n",
      "300\n",
      "295\n",
      "290\n",
      "285\n",
      "280\n",
      "275\n",
      "270\n",
      "265\n",
      "260\n",
      "255\n",
      "250\n",
      "245\n",
      "240\n",
      "235\n",
      "230\n",
      "225\n",
      "220\n",
      "215\n",
      "210\n",
      "205\n",
      "200\n",
      "195\n",
      "190\n",
      "185\n",
      "180\n",
      "175\n",
      "170\n",
      "165\n",
      "160\n",
      "155\n",
      "150\n",
      "145\n",
      "140\n",
      "135\n",
      "130\n",
      "125\n",
      "120\n",
      "115\n",
      "110\n",
      "105\n",
      "100\n",
      "95\n",
      "90\n",
      "85\n",
      "80\n",
      "75\n",
      "70\n",
      "65\n",
      "60\n",
      "55\n",
      "50\n",
      "45\n",
      "40\n",
      "35\n",
      "30\n",
      "25\n",
      "20\n",
      "15\n",
      "10\n",
      "5\n"
     ]
    }
   ],
   "source": [
    "while len(price_t_df)>0:\n",
    "    print(len(price_t_df))\n",
    "    #训练模型\n",
    "    model = Prophet(daily_seasonality=True) \n",
    "    model.fit(price_df)\n",
    "    future_data = model.make_future_dataframe(periods=5, freq = 'd') #每次预测之后五天\n",
    "    forecast_data = model.predict(future_data)\n",
    "    #保存预测值\n",
    "    yhat.append(np.exp(forecast_data.loc[len(forecast_data)-5:len(forecast_data)-1,'yhat'])-1)\n",
    "    yhat_lower.append(np.exp(forecast_data.loc[len(forecast_data)-5:len(forecast_data)-1,'yhat_lower'])-1)\n",
    "    yhat_upper.append(np.exp(forecast_data.loc[len(forecast_data)-5:len(forecast_data)-1,'yhat_upper'])-1)\n",
    "    #更新数据\n",
    "    for i in range(5):\n",
    "        price_df.loc[len(price_df)] = price_t_df.loc[0]  #将testset的第一行加入trainset的末尾\n",
    "        price_t_df = price_t_df.drop([0]).reset_index(drop = True) #删除testset第一行，并且更新index"
   ]
  },
  {
   "cell_type": "code",
   "execution_count": 6,
   "metadata": {},
   "outputs": [],
   "source": [
    "#将结果转化成list\n",
    "yhat_list = []\n",
    "yhat_lower_list = []\n",
    "yhat_upper_list = []\n",
    "for i in yhat:\n",
    "    yhat_list+=i.tolist()\n",
    "for i in yhat_lower:\n",
    "    yhat_lower_list+=i.tolist()\n",
    "for i in yhat_upper:\n",
    "    yhat_upper_list+=i.tolist()"
   ]
  },
  {
   "cell_type": "code",
   "execution_count": 7,
   "metadata": {},
   "outputs": [],
   "source": [
    "result = pd.DataFrame({'yhat':yhat_list,'yhat_lower':yhat_lower_list,'yhat_upper':yhat_upper_list,'y':y_true})"
   ]
  },
  {
   "cell_type": "code",
   "execution_count": 8,
   "metadata": {},
   "outputs": [],
   "source": [
    "result.to_csv('resultBBB.csv')"
   ]
  },
  {
   "cell_type": "code",
   "execution_count": 9,
   "metadata": {},
   "outputs": [
    {
     "data": {
      "image/png": "[encoded data removed]",
      "text/plain": [
       "<Figure size 432x288 with 1 Axes>"
      ]
     },
     "metadata": {
      "needs_background": "light"
     },
     "output_type": "display_data"
    }
   ],
   "source": [
    "fig, ax1 = plt.subplots()\n",
    "ax1.plot(y_true.index,np.array(y_true),label = 'Actual Value')\n",
    "ax1.plot(y_true.index,np.array(yhat_list), color='black', linestyle=':',label = 'Forecasted Value')\n",
    "ax1.fill_between(y_true.index, np.array(yhat_lower_list), np.array(yhat_upper_list), alpha=0.5, color='darkgray')\n",
    "ax1.set_title('Price (Blue) vs Price Forecast (Black)')\n",
    "ax1.set_ylabel('Credit Spread')\n",
    "ax1.set_xlabel('Date')\n",
    "plt.legend()\n",
    "plt.savefig(\"fbprophetBBB.png\")\n",
    "plt.show()"
   ]
  },
  {
   "cell_type": "code",
   "execution_count": null,
   "metadata": {},
   "outputs": [],
   "source": []
  }
 ],
 "metadata": {
  "kernelspec": {
   "display_name": "Python 3",
   "language": "python",
   "name": "python3"
  },
  "language_info": {
   "codemirror_mode": {
    "name": "ipython",
    "version": 3
   },
   "file_extension": ".py",
   "mimetype": "text/x-python",
   "name": "python",
   "nbconvert_exporter": "python",
   "pygments_lexer": "ipython3",
   "version": "3.6.4"
  }
 },
 "nbformat": 4,
 "nbformat_minor": 2
}
